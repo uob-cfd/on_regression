{
 "cells": [
  {
   "cell_type": "markdown",
   "metadata": {},
   "source": [
    "# Correlation, Regression, and Least Squares"
   ]
  },
  {
   "cell_type": "markdown",
   "metadata": {},
   "source": [
    "Run the cell below to prepare the notebook."
   ]
  },
  {
   "cell_type": "code",
   "execution_count": null,
   "metadata": {},
   "outputs": [],
   "source": [
    "# Run this cell to set up the notebook, but please don't change it.\n",
    "import numpy as np\n",
    "import pandas as pd\n",
    "# Safe settings for Pandas.\n",
    "pd.set_option('mode.chained_assignment', 'raise')\n",
    "\n",
    "# These lines do some fancy plotting magic.\n",
    "import matplotlib\n",
    "%matplotlib inline\n",
    "import matplotlib.pyplot as plt\n",
    "plt.style.use('fivethirtyeight')\n",
    "\n",
    "# This silences some warnings.\n",
    "import warnings\n",
    "warnings.simplefilter('ignore', FutureWarning)\n",
    "\n",
    "# Stuff for fancy widgets.\n",
    "from matplotlib import patches\n",
    "from ipywidgets import interact, interactive, fixed\n",
    "import ipywidgets as widgets\n",
    "\n",
    "# Automated tests.\n",
    "from client.api.notebook import Notebook\n",
    "ok = Notebook('on_regression.ok')"
   ]
  },
  {
   "cell_type": "markdown",
   "metadata": {},
   "source": [
    "## 1. Evaluating basketball game predictions\n"
   ]
  },
  {
   "cell_type": "markdown",
   "metadata": {},
   "source": [
    "### A brief introduction to sports betting"
   ]
  },
  {
   "cell_type": "markdown",
   "metadata": {},
   "source": [
    "In a basketball game, each team scores some number of points.  Conventionally,\n",
    "the team playing at its own arena is called the \"home team,\" and the other\n",
    "team is called the \"away team.\"  The winner is the team with the most points.\n",
    "\n",
    "We can summarize what happened in a game by the \"**outcome**\", defined as\n",
    "**the away team's score minus the home team's score**:\n",
    "\n",
    "$$\\text{outcome} = \\text{points scored by the away team} - \\text{points scored\n",
    "by the home team}$$\n",
    "\n",
    "If this number is positive, the away team won.  If it's negative, the home\n",
    "team won.\n",
    "\n",
    "Casinos in Las Vegas offer bets on the outcomes of National Basketball\n",
    "Association (NBA) games.  One kind of bet works like this:\n",
    "\n",
    "1. The casino decides on a number called the \"spread.\"\n",
    "2. You can bet 11 dollars that the outcome will be above the spread, or 11\n",
    "   dollars that the outcome will be below the spread.\n",
    "3. After the game, you end up with 21 dollars if you guessed correctly, and\n",
    "   0 if you guessed incorrectly.\n",
    "\n",
    "The analysts at the casino try to choose the \"spread* value so that (according\n",
    "to their analysis of the teams) there is a 50% chance that the outcome will be\n",
    "below that value, and a 50% chance that the outcome will be above that value.\n",
    "\n",
    "**The spread is the casino's best guess at the outcome (the away team's score\n",
    "minus the home team's score).**\n",
    "\n",
    "The table `spreads` contains spreads from the betting website\n",
    "[Covers](http://www.covers.com) from every game in the 2014 NBA season, plus\n",
    "actual game outcomes."
   ]
  },
  {
   "cell_type": "code",
   "execution_count": null,
   "metadata": {},
   "outputs": [],
   "source": [
    "spreads = pd.read_csv(\"spreads.csv\")\n",
    "spreads.head()"
   ]
  },
  {
   "cell_type": "markdown",
   "metadata": {},
   "source": [
    "Here's a scatter plot of the outcomes and spreads, with the spreads on the\n",
    "horizontal axis."
   ]
  },
  {
   "cell_type": "code",
   "execution_count": null,
   "metadata": {},
   "outputs": [],
   "source": [
    "spreads.plot.scatter(\"Spread\", \"Outcome\")"
   ]
  },
  {
   "cell_type": "markdown",
   "metadata": {},
   "source": [
    "### Question 1\n",
    "\n",
    "For reflection; why do you think that neither the spread and outcome are ever\n",
    "0 (aside from a single case of the spread being 0)?\n",
    "\n",
    "Let's investigate how well the casinos are predicting game outcomes.\n",
    "\n",
    "One question we can ask is: Is the casino's prediction correct on average? In\n",
    "other words, for every value of the spread, is the average outcome of games\n",
    "assigned that spread equal to the spread? If not, the casino would apparently\n",
    "be making a systematic error in its predictions.\n"
   ]
  },
  {
   "cell_type": "markdown",
   "metadata": {},
   "source": [
    "### Question 2\n",
    "\n",
    "Among games with a spread around 5, from 3.5 to 6.5 (including both 3.5 and\n",
    "6.5), what was the average outcome?\n",
    "\n",
    "*Hint:* Consider doing this by [combining Boolean arrays](https://matthew-brett.github.io/cfd2020/mean-slopes/combining_boolean_arrays)."
   ]
  },
  {
   "cell_type": "code",
   "execution_count": null,
   "metadata": {},
   "outputs": [],
   "source": [
    "spreads_around_5 = ...\n",
    "spread_5_outcome_average = ...\n",
    "print(\"Average outcome for spreads around 5:\", spread_5_outcome_average)"
   ]
  },
  {
   "cell_type": "code",
   "execution_count": null,
   "metadata": {},
   "outputs": [],
   "source": [
    "_ = ok.grade('q1_2')"
   ]
  },
  {
   "cell_type": "markdown",
   "metadata": {},
   "source": [
    "### Question 3\n",
    "\n",
    "If the average outcome for games with any given spread turned out to be\n",
    "exactly equal to that spread, what would the slope and intercept of the linear\n",
    "regression line be, in original units?"
   ]
  },
  {
   "cell_type": "code",
   "execution_count": null,
   "metadata": {},
   "outputs": [],
   "source": [
    "expected_slope_for_equal_spread = ...\n",
    "expected_intercept_for_equal_spread = ..."
   ]
  },
  {
   "cell_type": "code",
   "execution_count": null,
   "metadata": {},
   "outputs": [],
   "source": [
    "_ = ok.grade('q1_3')"
   ]
  },
  {
   "cell_type": "markdown",
   "metadata": {},
   "source": [
    "### Question 4\n",
    "\n",
    "Fix the `standard_units` function below.  It should take an array of numbers\n",
    "as its argument and return an array of those numbers in standard units."
   ]
  },
  {
   "cell_type": "code",
   "execution_count": null,
   "metadata": {
    "for_assignment_type": "#R_CODE#student"
   },
   "outputs": [],
   "source": [
    "def standard_units(nums):\n",
    "    \"\"\" Return array where every value in nums is converted to standard units.\n",
    "    \"\"\"\n",
    "    return nums / np.std(nums) - np.mean(nums)"
   ]
  },
  {
   "cell_type": "code",
   "execution_count": null,
   "metadata": {},
   "outputs": [],
   "source": [
    "_ = ok.grade('q1_4')"
   ]
  },
  {
   "cell_type": "markdown",
   "metadata": {},
   "source": [
    "### Question 5\n",
    "\n",
    "Compute the correlation between outcomes and spreads using the `standard_units` function."
   ]
  },
  {
   "cell_type": "code",
   "execution_count": null,
   "metadata": {},
   "outputs": [],
   "source": [
    "spread_r = ...\n",
    "spread_r"
   ]
  },
  {
   "cell_type": "code",
   "execution_count": null,
   "metadata": {},
   "outputs": [],
   "source": [
    "_ = ok.grade('q1_5')"
   ]
  },
  {
   "cell_type": "markdown",
   "metadata": {},
   "source": [
    "### Question 6a\n",
    "\n",
    "In fact, you can use the correlation you have just calculated to give the\n",
    "least-squares linear regression line that predicts outcomes from spreads, in\n",
    "original units.\n",
    "\n",
    "To do this, you need to:\n",
    "\n",
    "* Divide the r value by the standard deviation of the original x values (here\n",
    "  the Spread values), then\n",
    "* Multiply the result by the standard deviation of the original y values (here\n",
    "  the Outcome values).\n",
    "\n",
    "Do that now to calculate the least-squares slope in original units."
   ]
  },
  {
   "cell_type": "code",
   "execution_count": null,
   "metadata": {},
   "outputs": [],
   "source": [
    "spread_slope = ...\n",
    "spread_slope"
   ]
  },
  {
   "cell_type": "code",
   "execution_count": null,
   "metadata": {},
   "outputs": [],
   "source": [
    "_ = ok.grade('q1_6')"
   ]
  },
  {
   "cell_type": "markdown",
   "metadata": {},
   "source": [
    "### Question 6b\n",
    "\n",
    "Confirm this is very close to the least-squares slope by using `minimize`.\n",
    "Here are your [usual tools](https://matthew-brett.github.io/cfd2020/mean-slopes/using_minimize):"
   ]
  },
  {
   "cell_type": "code",
   "execution_count": null,
   "metadata": {},
   "outputs": [],
   "source": [
    "from scipy.optimize import minimize\n",
    "\n",
    "def ss_any_line(c_s, x_values, y_values):\n",
    "    c, s = c_s\n",
    "    predicted = c + x_values * s\n",
    "    error = y_values - predicted\n",
    "    return np.sum(error ** 2)"
   ]
  },
  {
   "cell_type": "markdown",
   "metadata": {},
   "source": [
    "Now use `minimize` to re-calculate the least-squares slope:"
   ]
  },
  {
   "cell_type": "code",
   "execution_count": null,
   "metadata": {},
   "outputs": [],
   "source": [
    "minimized_spread_slope = ...\n",
    "minimized_spread_slope"
   ]
  },
  {
   "cell_type": "code",
   "execution_count": null,
   "metadata": {},
   "outputs": [],
   "source": [
    "_ = ok.grade('q1_6b')"
   ]
  },
  {
   "cell_type": "markdown",
   "metadata": {},
   "source": [
    "### Question 7\n",
    "\n",
    "For the \"best fit\" line that estimates the average outcome from the spread,\n",
    "the slope is less than 1. Does knowing the slope alone tell you whether the\n",
    "average spread was higher than the average outcome? If so, set the variable\n",
    "name below to `True`. If you think you need more information than just the\n",
    "slope of the regression line to answer that question, then respond `False`.\n",
    "Briefly justify your answer below."
   ]
  },
  {
   "cell_type": "code",
   "execution_count": null,
   "metadata": {},
   "outputs": [],
   "source": [
    "slope_implies_average_spread_above_average_outcome = ..."
   ]
  },
  {
   "cell_type": "markdown",
   "metadata": {
    "manual_problem_id": "nba_7"
   },
   "source": [
    "*Write your answer here, replacing this text.*"
   ]
  },
  {
   "cell_type": "code",
   "execution_count": null,
   "metadata": {
    "lines_to_next_cell": 2
   },
   "outputs": [],
   "source": [
    "_ = ok.grade('q1_7')"
   ]
  },
  {
   "cell_type": "markdown",
   "metadata": {},
   "source": [
    "## 2. Finding the Least Squares Regression Line"
   ]
  },
  {
   "cell_type": "markdown",
   "metadata": {},
   "source": [
    "In this exercise, you'll work with a small invented data set.  Run the next\n",
    "cell to generate the dataset `d` and see a scatter plot."
   ]
  },
  {
   "cell_type": "code",
   "execution_count": null,
   "metadata": {},
   "outputs": [],
   "source": [
    "# Run this cell.\n",
    "d = pd.DataFrame()\n",
    "d['x'] = [0,  1,  2,  3,  4]\n",
    "d['y'] = [1, .5, -1,  2, -3]\n",
    "d.plot.scatter('x', 'y')"
   ]
  },
  {
   "cell_type": "markdown",
   "metadata": {},
   "source": [
    "### Question 1 (Ungraded, but you'll need the result later)"
   ]
  },
  {
   "cell_type": "markdown",
   "metadata": {},
   "source": [
    "Running the cell below will generate sliders that control the slope and\n",
    "intercept of a line through the scatter plot.  When you adjust a slider, the\n",
    "line will move.\n",
    "\n",
    "By moving the line around, make your best guess at the least-squares\n",
    "regression line.  (It's okay if your line isn't exactly right, as long as it's\n",
    "reasonable.)\n",
    "\n",
    "**Note:** Python will probably take about a second to redraw the plot each\n",
    "time you adjust the slider.  We suggest clicking the place on the slider you\n",
    "want to try and waiting for the plot to be drawn; dragging the slider handle\n",
    "around will cause a long lag."
   ]
  },
  {
   "cell_type": "code",
   "execution_count": null,
   "metadata": {},
   "outputs": [],
   "source": [
    "def plot_line(intercept, slope):\n",
    "    plt.figure(figsize=(5,5))\n",
    "\n",
    "    endpoints = np.array([-2, 7])\n",
    "    p = plt.plot(endpoints, intercept + slope * endpoints,\n",
    "                 color='orange',\n",
    "                 label='Proposed line')\n",
    "\n",
    "    plt.scatter(d['x'], d['y'], color='blue', label='Points')\n",
    "\n",
    "    plt.xlim(-4, 8)\n",
    "    plt.ylim(-6, 6)\n",
    "    plt.gca().set_aspect('equal', adjustable='box')\n",
    "\n",
    "    plt.legend(bbox_to_anchor=(1.8, .8))\n",
    "    plt.show()\n",
    "\n",
    "interact(plot_line,\n",
    "         intercept=widgets.FloatSlider(min=-4, max=4, step=.1),\n",
    "         slope=widgets.FloatSlider(min=-4, max=4, step=.1));"
   ]
  },
  {
   "cell_type": "markdown",
   "metadata": {},
   "source": [
    "<div class=\"hide\">\\pagebreak</div>\n",
    "\n",
    "You can probably find a reasonable-looking line by just eyeballing it.  But\n",
    "remember: the least-squares regression line minimizes the mean of the squared\n",
    "errors made by the line for each point.  Your eye might not be able to judge\n",
    "squared errors very well.\n"
   ]
  },
  {
   "cell_type": "markdown",
   "metadata": {},
   "source": [
    "### A note on mean and total squared error"
   ]
  },
  {
   "cell_type": "markdown",
   "metadata": {},
   "source": [
    "It is common to think of the least-squares line as the line with the least\n",
    "*mean* squared error (or the square root of the mean squared error).\n",
    "\n",
    "But that it doesn't matter whether you minimize the *mean* squared error or\n",
    "the *total* squared error.  You'll get the same best line in either case.\n",
    "\n",
    "That's because the total squared error is just the mean squared error\n",
    "multiplied by the number of points (`len(d)`).  So if one line gets a better\n",
    "total squared error than another line, then it also gets a better mean squared\n",
    "error.  In particular, the line with the smallest total squared error is also\n",
    "better than every other line in terms of mean squared error.  That makes it\n",
    "the least squares line.\n",
    "\n",
    "**Minimizing the total squared error minimizes the mean squared error as\n",
    "well.**\n"
   ]
  },
  {
   "cell_type": "markdown",
   "metadata": {},
   "source": [
    "### Question 2 (Ungraded, but you'll need the result later)"
   ]
  },
  {
   "cell_type": "markdown",
   "metadata": {},
   "source": [
    "The next cell produces a more useful plot.  Use it to find a line that's\n",
    "closer to the least-squares regression line, keeping the above note in mind."
   ]
  },
  {
   "cell_type": "code",
   "execution_count": null,
   "metadata": {},
   "outputs": [],
   "source": [
    "def plot_line_and_errors(intercept, slope):\n",
    "    plt.figure(figsize=(5,5))\n",
    "    points = np.array([-2, 7])\n",
    "    p = plt.plot(points, intercept + slope * points,\n",
    "                 color='orange',\n",
    "                 label='Proposed line')\n",
    "    ax = p[0].axes\n",
    "\n",
    "    predicted_ys = intercept + slope * d['x']\n",
    "    diffs = predicted_ys - d['y']\n",
    "    for i in np.arange(len(d)):\n",
    "        x = d['x'].iloc[i]\n",
    "        y = d['y'].iloc[i]\n",
    "        diff = diffs.iloc[i]\n",
    "\n",
    "        if diff > 0:\n",
    "            bottom_left_x = x\n",
    "            bottom_left_y = y\n",
    "        else:\n",
    "            bottom_left_x = x + diff\n",
    "            bottom_left_y = y + diff\n",
    "\n",
    "        ax.add_patch(patches.Rectangle(\n",
    "            [bottom_left_x, bottom_left_y],\n",
    "            abs(diff), abs(diff),\n",
    "            color='red', alpha=.3,\n",
    "            label=('Squared error' if i == 0 else None)))\n",
    "        plt.plot([x, x], [y, y + diff], color='red', alpha=.6,\n",
    "                 label=('Error' if i == 0 else None))\n",
    "\n",
    "    plt.scatter(d['x'], d['y'], color='blue', label='Points')\n",
    "\n",
    "    plt.xlim(-4, 8)\n",
    "    plt.ylim(-6, 6)\n",
    "    plt.gca().set_aspect('equal', adjustable='box')\n",
    "\n",
    "    plt.legend(bbox_to_anchor=(1.8, .8))\n",
    "    plt.show()\n",
    "\n",
    "interact(plot_line_and_errors,\n",
    "         intercept=widgets.FloatSlider(min=-4, max=4, step=.1),\n",
    "         slope=widgets.FloatSlider(min=-4, max=4, step=.1));"
   ]
  },
  {
   "cell_type": "markdown",
   "metadata": {},
   "source": [
    "### Question 3"
   ]
  },
  {
   "cell_type": "markdown",
   "metadata": {},
   "source": [
    "Describe the visual criterion you used to find a line in question 2.  (For\n",
    "example, a possible (but incorrect) answer is, \"I tried to make the red line\n",
    "for the bottom-right point as small as possible.\")"
   ]
  },
  {
   "cell_type": "markdown",
   "metadata": {
    "lines_to_next_cell": 2,
    "manual_problem_id": "least_squares_3"
   },
   "source": [
    "*Write your answer here, replacing this text.*"
   ]
  },
  {
   "cell_type": "markdown",
   "metadata": {},
   "source": [
    "### Question 4"
   ]
  },
  {
   "cell_type": "markdown",
   "metadata": {},
   "source": [
    "We can say that a point influences the line by how much the line would move if\n",
    "the point were removed from the data set. Does the point at (3, 2) have more\n",
    "or less influence than any other point on the location of the line?"
   ]
  },
  {
   "cell_type": "markdown",
   "metadata": {
    "manual_problem_id": "least_squares_4"
   },
   "source": [
    "*Write your answer here, replacing this text.*"
   ]
  },
  {
   "cell_type": "markdown",
   "metadata": {},
   "source": [
    "Now, let's have Python find this line for us.  When we use `minimize`, Python\n",
    "goes through a process similar to the one you might have used in question 2.\n"
   ]
  },
  {
   "cell_type": "markdown",
   "metadata": {},
   "source": [
    "### Question 5\n",
    "\n",
    "Define a function called `total_squared_error`.  It should take two numbers as arguments:\n",
    "\n",
    "1. the intercept of some potential line\n",
    "2. the slope of some potential line\n",
    "\n",
    "It should return the total squared error when we use that line to make\n",
    "predictions for the dataset `d`.  You can use `d` inside the function -\n",
    "remember, function world can see the variables in the notebook, it just can't\n",
    "change what the variables in the notebook point to.\n",
    "\n",
    "**Hint** - you can use the `ss_any_line` function above to make your life\n",
    "easier."
   ]
  },
  {
   "cell_type": "code",
   "execution_count": null,
   "metadata": {},
   "outputs": [],
   "source": [
    "def total_squared_error(intercept, slope):\n",
    "    ..."
   ]
  },
  {
   "cell_type": "code",
   "execution_count": null,
   "metadata": {
    "lines_to_next_cell": 2
   },
   "outputs": [],
   "source": [
    "_ = ok.grade('q2_5')"
   ]
  },
  {
   "cell_type": "markdown",
   "metadata": {},
   "source": [
    "### Question 6"
   ]
  },
  {
   "cell_type": "markdown",
   "metadata": {},
   "source": [
    "What is the total squared error for the line you found by \"eyeballing\" the\n",
    "errors in Question 1?  What about Question 2, where you made a guess that was\n",
    "\"aided\" by a visualization of the squared error?  (It's okay if the error went\n",
    "up, but for many students, the error will go down when using the visual aid.)"
   ]
  },
  {
   "cell_type": "code",
   "execution_count": null,
   "metadata": {
    "for_assignment_type": "#R_CODE#student",
    "manual_problem_id": "#R_CODE#least_squares_6"
   },
   "outputs": [],
   "source": [
    "eyeballed_error = ...\n",
    "aided_error = ...\n",
    "print(\"Eyeballed error:\", eyeballed_error)\n",
    "print(\"Aided error:\", aided_error)"
   ]
  },
  {
   "cell_type": "code",
   "execution_count": null,
   "metadata": {},
   "outputs": [],
   "source": [
    "_ = ok.grade('q2_6')"
   ]
  },
  {
   "cell_type": "markdown",
   "metadata": {},
   "source": [
    "#### Question 7\n",
    "\n",
    "Use `minimize` to find the actual slope and intercept of the least-squares regression line.\n",
    "\n",
    "*Hint*: your task will be easier if you use the general `ss_any_line` function,\n",
    "rather than your less general `total_squared_error` function above.\n"
   ]
  },
  {
   "cell_type": "code",
   "execution_count": null,
   "metadata": {
    "for_assignment_type": "#R_CODE#student"
   },
   "outputs": [],
   "source": [
    "#- The staff solution used 1 line of code above here.\n",
    "intercept_from_minimize = ...\n",
    "slope_from_minimize = ...\n",
    "print(\"Least-squares regression line: predicted_y =\",\n",
    "      intercept_from_minimize,\n",
    "      \"+\",\n",
    "      slope_from_minimize,\n",
    "      '* x')"
   ]
  },
  {
   "cell_type": "code",
   "execution_count": null,
   "metadata": {},
   "outputs": [],
   "source": [
    "_ = ok.grade('q2_7')"
   ]
  },
  {
   "cell_type": "markdown",
   "metadata": {},
   "source": [
    "### Question 8"
   ]
  },
  {
   "cell_type": "markdown",
   "metadata": {},
   "source": [
    "What was the total squared error for that line?"
   ]
  },
  {
   "cell_type": "code",
   "execution_count": null,
   "metadata": {},
   "outputs": [],
   "source": [
    "best_total_squared_error = ...\n",
    "best_total_squared_error"
   ]
  },
  {
   "cell_type": "code",
   "execution_count": null,
   "metadata": {},
   "outputs": [],
   "source": [
    "_ = ok.grade('q2_8')"
   ]
  },
  {
   "cell_type": "markdown",
   "metadata": {},
   "source": [
    "Finally, run the following cell to plot this \"best fit\" line and its errors:"
   ]
  },
  {
   "cell_type": "code",
   "execution_count": null,
   "metadata": {},
   "outputs": [],
   "source": [
    "plot_line_and_errors(intercept_from_minimize, slope_from_minimize)"
   ]
  },
  {
   "cell_type": "markdown",
   "metadata": {},
   "source": [
    "## 3. Triple Jump Distances vs. Vertical Jump Heights"
   ]
  },
  {
   "cell_type": "markdown",
   "metadata": {},
   "source": [
    "Does skill in one sport imply skill in a related sport?  The answer might be\n",
    "different for different activities.  Let us find out whether it's true for the\n",
    "[triple jump](https://en.wikipedia.org/wiki/Triple_jump) (an horizontal jump\n",
    "similar to a long jump) and the vertical jump.  Since we're learning about\n",
    "linear regression, we will look specifically for a *linear* association\n",
    "between skill in the two sports.\n",
    "\n",
    "The following data was collected by observing 40 college level soccer players.\n",
    "Each athlete's distance in both jump activities was measured in centimeters.\n",
    "Run the cell below to load the data."
   ]
  },
  {
   "cell_type": "code",
   "execution_count": null,
   "metadata": {},
   "outputs": [],
   "source": [
    "# Run this cell to load the data\n",
    "jumps = pd.read_csv('triple_vertical.csv')\n",
    "jumps.head()"
   ]
  },
  {
   "cell_type": "markdown",
   "metadata": {},
   "source": [
    "### Question 1"
   ]
  },
  {
   "cell_type": "markdown",
   "metadata": {},
   "source": [
    "Before running a regression, it's important to see what the data look like,\n",
    "because our eyes are good at picking out unusual patterns in data.  Draw a\n",
    "scatter plot with the triple jump distances on the horizontal axis and the\n",
    "vertical jump heights on vertical axis."
   ]
  },
  {
   "cell_type": "code",
   "execution_count": null,
   "metadata": {
    "manual_problem_id": "#R_CODE#jumping_1"
   },
   "outputs": [],
   "source": [
    "..."
   ]
  },
  {
   "cell_type": "markdown",
   "metadata": {},
   "source": [
    "**Question 2** If you were to calculate the *correlation coefficient* `r`, do\n",
    "you think it would be closer to 0, .5, or -.5? Explain."
   ]
  },
  {
   "cell_type": "markdown",
   "metadata": {
    "lines_to_next_cell": 2,
    "manual_problem_id": "jumping_2"
   },
   "source": [
    "*Write your answer here, replacing this text.*"
   ]
  },
  {
   "cell_type": "markdown",
   "metadata": {},
   "source": [
    "### Question 3"
   ]
  },
  {
   "cell_type": "markdown",
   "metadata": {},
   "source": [
    "Create a function called `regression_parameters`. It takes as its argument a\n",
    "table with two columns.  The first column is the x-axis, and the second column\n",
    "is the y-axis.  It should compute the intercept and slope of the regression\n",
    "line that predicts the second column from the first, in original units\n",
    "(centimeters).  It should return an array with two elements: the intercept of\n",
    "the regression line, and the slope of the regression line.\n",
    "\n",
    "*Hint*: remember your [Pandas\n",
    "indexing](https://matthew-brett.github.io/cfd2020/data-frames/df_series_arrays).\n",
    "\n",
    "*Hint*: use a flat line with intercept 0, slope 0 as your initial guess for the\n",
    "line."
   ]
  },
  {
   "cell_type": "code",
   "execution_count": null,
   "metadata": {
    "for_assignment_type": "#R_CODE#student"
   },
   "outputs": [],
   "source": [
    "def regression_parameters(t):\n",
    "    ...\n",
    "    #- Our solution had 1 line above this one\n",
    "    intercept = ...\n",
    "    slope = ...\n",
    "    return np.array([intercept, slope])\n",
    "\n",
    "# When your function is finished, the next lines should\n",
    "# compute the regression line predicting vertical jump\n",
    "# distances from triple jump distances.\n",
    "parameters = regression_parameters(jumps)\n",
    "print('Intercept:', parameters[0])\n",
    "print('Slope:', parameters[1])"
   ]
  },
  {
   "cell_type": "code",
   "execution_count": null,
   "metadata": {},
   "outputs": [],
   "source": [
    "_ = ok.grade('q3_3')"
   ]
  },
  {
   "cell_type": "markdown",
   "metadata": {},
   "source": [
    "### Question 4"
   ]
  },
  {
   "cell_type": "markdown",
   "metadata": {},
   "source": [
    "Let's use `regression_parameters` to predict what certain athletes' vertical jump heights would be given their triple jump distances.\n",
    "\n",
    "The world record for the triple jump distance is 18.29 *meters* by Johnathan\n",
    "Edwards. What's our prediction for what Edwards' vertical jump would be?"
   ]
  },
  {
   "cell_type": "code",
   "execution_count": null,
   "metadata": {},
   "outputs": [],
   "source": [
    "triple_record_vert_est = ...\n",
    "print(\"Predicted vertical jump distance: {:f} centimeters\".format(triple_record_vert_est))"
   ]
  },
  {
   "cell_type": "code",
   "execution_count": null,
   "metadata": {},
   "outputs": [],
   "source": [
    "_ = ok.grade('q3_4')"
   ]
  },
  {
   "cell_type": "markdown",
   "metadata": {},
   "source": [
    "### Question 5\n",
    "\n",
    "Do you expect this estimate to be accurate within a few centimeters? Why or\n",
    "why not?"
   ]
  },
  {
   "cell_type": "markdown",
   "metadata": {
    "lines_to_next_cell": 2,
    "manual_problem_id": "jumping_5"
   },
   "source": [
    "*Write your answer here, replacing this text.*"
   ]
  },
  {
   "cell_type": "markdown",
   "metadata": {},
   "source": [
    "## 4. Testing Relationship Ratings"
   ]
  },
  {
   "cell_type": "markdown",
   "metadata": {},
   "source": [
    "Throughout this part of the homework, we will be interested in learning how\n",
    "different factors can contribute to the rating couples give their\n",
    "relationship, on a scale of 1-5 (1 being most satisfied, and 5 being the\n",
    "least).\n",
    "\n",
    "To do this, we will be looking at the table that is loaded below.\n",
    "\n",
    "**Note:** The data in this table is quite dated; for example, it only includes\n",
    "heterosexual relationships. A better dataset would contain a more accurate\n",
    "sample of couples. When drawing conclusions from data, it is important to be\n",
    "aware of biases that exist in the dataset."
   ]
  },
  {
   "cell_type": "code",
   "execution_count": null,
   "metadata": {},
   "outputs": [],
   "source": [
    "couples = pd.read_csv('couples.csv')\n",
    "couples.head()"
   ]
  },
  {
   "cell_type": "markdown",
   "metadata": {},
   "source": [
    "Looking at the table above, we note that we should be able to test whether\n",
    "different factors can affect the relationship rating, from age to education.\n",
    "To begin, we are first going to investigate whether *marital status* has an\n",
    "effect on relationship rating. In order to accomplish this, we are going to do\n",
    "a permutation test!\n"
   ]
  },
  {
   "cell_type": "markdown",
   "metadata": {},
   "source": [
    "### Question 1\n",
    "\n",
    "State the *null hypothesis* for such a test (assume we aren't trying to figure\n",
    "out ***how*** marital status affects relationship rating, just whether or not\n",
    "it does).\n",
    "\n",
    "Remember the *null hypothesis* is a specification of the ideal world in which\n",
    "there is *not any* effect.\n"
   ]
  },
  {
   "cell_type": "markdown",
   "metadata": {
    "manual_problem_id": "null_hypothesis"
   },
   "source": [
    "**Answer:**\n",
    "\n",
    "Null hypothesis:\n"
   ]
  },
  {
   "cell_type": "markdown",
   "metadata": {},
   "source": [
    "### Question 2\n",
    "\n",
    "Before we continue, we will have to talk about the notion of a contingency\n",
    "table.\n",
    "\n",
    "Define `contingency` to be a data frame where the *rows* represent unique\n",
    "values of the relationship ratings, the *columns* represent the unique values\n",
    "of marital status present in the table, and the values in each cell represent\n",
    "the number of individuals with a given marital status and relationship rating.\n",
    "\n",
    "**Hint**: you already know a very useful Pandas function that does this."
   ]
  },
  {
   "cell_type": "code",
   "execution_count": null,
   "metadata": {},
   "outputs": [],
   "source": [
    "contingency = ...\n",
    "contingency"
   ]
  },
  {
   "cell_type": "code",
   "execution_count": null,
   "metadata": {},
   "outputs": [],
   "source": [
    "_ = ok.grade('q4_2')"
   ]
  },
  {
   "cell_type": "markdown",
   "metadata": {},
   "source": [
    "### Question 3\n",
    "\n",
    "It is difficult to identify a pattern in the above table, since our table has\n",
    "so many more married people than it does unmarried. To rectify this, we will\n",
    "instead compute proportions.\n",
    "\n",
    "Assign `contingency_prop` to a table with the same columns and rows, but the\n",
    "values are instead in proportions, i.e. the value in the cell corresponding to\n",
    "a relationship rating of 1 and marital status of \"married\" should be the\n",
    "proportion of married people who gave their relationship a 1.  In other words,\n",
    "replace the values by the proportion of all counts in the matching *column*."
   ]
  },
  {
   "cell_type": "code",
   "execution_count": null,
   "metadata": {
    "for_assignment_type": "#R_CODE#student"
   },
   "outputs": [],
   "source": [
    "contingency_prop = ...\n",
    "contingency_prop"
   ]
  },
  {
   "cell_type": "code",
   "execution_count": null,
   "metadata": {},
   "outputs": [],
   "source": [
    "_ = ok.grade('q4_3')"
   ]
  },
  {
   "cell_type": "markdown",
   "metadata": {},
   "source": [
    "## Question 4\n",
    "\n",
    "The `married` column of `contingency_prop` now contains proportions of married\n",
    "people who gave ratings 1, 2, 3, 4, 5, and the `partner` column has the\n",
    "equivalent proportions for the not-married people.\n",
    "\n",
    "We would like to have some measure of the difference `married` and `partner` proportions.\n",
    "\n",
    "One way of doing this is called *Total Variation Distance* (TVD).\n",
    "\n",
    "It works like this: for each of the five proportions we subtract the `partner`\n",
    "proportion from the `married` proportion, and then knock of any minus signs by\n",
    "taking the absolute value.   We end up with five absolute differences of\n",
    "proportions.  The TVD is the sum of these five absolute differences divided by\n",
    "two.\n",
    "\n",
    "Assign `tvd_marriages` to the Total Variation Distance between the\n",
    "distributions of married people's relationship ratings and unmarried people's\n",
    "relationship ratings."
   ]
  },
  {
   "cell_type": "code",
   "execution_count": null,
   "metadata": {},
   "outputs": [],
   "source": [
    "tvd_marriages = ...\n",
    "tvd_marriages"
   ]
  },
  {
   "cell_type": "code",
   "execution_count": null,
   "metadata": {},
   "outputs": [],
   "source": [
    "_ = ok.grade('q4_4')"
   ]
  },
  {
   "cell_type": "markdown",
   "metadata": {},
   "source": [
    "### Question 5\n",
    "\n",
    "Let's get more general now. Define the function `tvd` which takes in:\n",
    "\n",
    "- any table like `couples`\n",
    "- `conditions`: the name of a column like Relationship Rating\n",
    "- `values`: the name of a column like Marital Status\n",
    "\n",
    "The function should return the total variation distance between the\n",
    "distribution of conditions in the first unique value of `values` and the\n",
    "distribution of conditions in the second unique value of `values` (assume\n",
    "there are only two unique values)\n",
    "\n",
    "***Hint***: This looks daunting, but you are just generalizing the code you\n",
    "have written in the cells above."
   ]
  },
  {
   "cell_type": "code",
   "execution_count": null,
   "metadata": {
    "for_assignment_type": "#R_CODE#student"
   },
   "outputs": [],
   "source": [
    "def tvd(t, conditions, values):\n",
    "    return ...\n",
    "\n",
    "# This should give the same answer as the cell above.\n",
    "tvd(couples, 'Relationship Rating', 'Marital Status')"
   ]
  },
  {
   "cell_type": "code",
   "execution_count": null,
   "metadata": {},
   "outputs": [],
   "source": [
    "_ = ok.grade('q4_5')"
   ]
  },
  {
   "cell_type": "markdown",
   "metadata": {},
   "source": [
    "### Question 6\n",
    "\n",
    "Now that we have a valid test statistic, fill in the implementation of\n",
    "`permutation_test` below. It should run a permutation test to check whether\n",
    "conditions and values are related, where conditions and values are defined as\n",
    "above.\n",
    "\n",
    "**Hint** by saying conditions are and values are not related, we are saying\n",
    "that the pairing between conditions is random.\n",
    "\n",
    "The inputs to the function are:\n",
    "\n",
    "- `t`: a table containing our data\n",
    "- `conditions`: the name of the column in `t` representing our conditions\n",
    "- `values`: the name of the column in `t` representing our values\n",
    "- `n_repetitions`: the number of permutations we'd like to test.\n",
    "- `stat_func`: a test statistic function (such as `tvd`).\n",
    "\n",
    "The return value should be the p-value of seeing the observed value assuming\n",
    "the null hypothesis. Fill in the implementation as necessary; we have also\n",
    "provided code which allows you to see an empirical histogram of the\n",
    "distribution under the null."
   ]
  },
  {
   "cell_type": "code",
   "execution_count": null,
   "metadata": {},
   "outputs": [],
   "source": [
    "def permutation_test(t, conditions, values, n_repetitions, stat_func):\n",
    "    observed_stat = ...\n",
    "    fake_stats = ...\n",
    "    # Values as an array, for permuting.\n",
    "    to_permute = np.array(t[values])\n",
    "\n",
    "    for i in np.arange(n_repetitions):\n",
    "        # Permute the values\n",
    "        ...\n",
    "        permuted_df = t.copy()\n",
    "        permuted_df[values] = ...\n",
    "        fake_stats...\n",
    "\n",
    "    p_value = ...\n",
    "    # Show the sampling distribution\n",
    "    plt.hist(fake_stats, bins=np.arange(-.02, .12, .02))\n",
    "    plt.title('Empirical distribution of TVD')\n",
    "    return p_value\n",
    "\n",
    "permutation_test(couples, 'Relationship Rating', 'Marital Status', 200, tvd)"
   ]
  },
  {
   "cell_type": "markdown",
   "metadata": {},
   "source": [
    "### Question 7\n",
    "\n",
    "Based on the above method, should we reject the null hypothesis that the relationship ratings and marital status are uncorrelated, or should we fail to reject? Why?\n"
   ]
  },
  {
   "cell_type": "markdown",
   "metadata": {
    "lines_to_next_cell": 2,
    "manual_problem_id": "rate_status"
   },
   "source": [
    "*Write your answer here, replacing this text.*"
   ]
  },
  {
   "cell_type": "markdown",
   "metadata": {},
   "source": [
    "## Done\n",
    "\n",
    "You're finished with the assignment!  Be sure to...\n",
    "\n",
    "- **run all the tests** (the next cell has a shortcut for that),\n",
    "- **Save and Checkpoint** from the \"File\" menu.\n",
    "- Finally, **restart** the kernel for this notebook, and **run all the\n",
    "  cells**, to check that the notebook still works without errors.  Use the\n",
    "  \"Kernel\" menu, and choose \"Restart and run all\".  If you find any problems,\n",
    "  go back and fix them, save the notebook, and restart / run all again, before\n",
    "  submitting.  When you do this, you make sure that we, your humble markers,\n",
    "  will be able to mark your notebook."
   ]
  },
  {
   "cell_type": "code",
   "execution_count": null,
   "metadata": {},
   "outputs": [],
   "source": [
    "# For your convenience, you can run this cell to run all the tests at once!\n",
    "import os\n",
    "_ = [ok.grade(q[:-3]) for q in os.listdir(\"tests\") if q.startswith('q')]"
   ]
  }
 ],
 "metadata": {
  "jupytext": {
   "cell_metadata_json": true,
   "split_at_heading": true,
   "text_representation": {
    "extension": ".Rmd",
    "format_name": "rmarkdown",
    "format_version": "1.1",
    "jupytext_version": "1.2.4"
   }
  },
  "kernelspec": {
   "display_name": "Python 3",
   "language": "python",
   "name": "python3"
  }
 },
 "nbformat": 4,
 "nbformat_minor": 4
}
